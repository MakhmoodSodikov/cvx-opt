{
  "nbformat": 4,
  "nbformat_minor": 0,
  "metadata": {
    "colab": {
      "name": "Untitled3.ipynb",
      "provenance": []
    },
    "kernelspec": {
      "name": "python3",
      "display_name": "Python 3"
    }
  },
  "cells": [
    {
      "cell_type": "markdown",
      "metadata": {
        "id": "-9rbbmZ9KSWD",
        "colab_type": "text"
      },
      "source": [
        "# **Исследование локального градиентного спуска | MPI interface for local gradient descend framework**\n",
        "\n",
        "*Содиков М. 798 группа / Курс методов оптимизаций*"
      ]
    },
    {
      "cell_type": "markdown",
      "metadata": {
        "id": "srL08pPnKwUt",
        "colab_type": "text"
      },
      "source": [
        "**Abstract**\n",
        "\n",
        "Локальный градиентный спуск -- довольно новый, но мощный инструмент для оптимизации функций, схожих по природе и свойствам, но отличающихся по каким-либо параметрам, а также хранящимся и изменяющимся различными, но похожими способами. Легче всего сэмулировать подобный кейс в проблеме локальной оптимизации целевой функции на конечных устройствах пользователей с непрерывной передачей центральному серверу значения градиента в конкретной точке. В то же время сервер принимает и обрабатывает значения градиентов от большого количества пользователей. Цель всего этого -- уменьшить нагрузку на сервер, при это не перегрузив конечные устройства пользователей, но при этом правильно и эффективно считать градиент и искать таким образом минимумы быстро. Что примечательно, из последних работ в этой области (Peter Richtarik [2019] et al. и Naman Agarwal [2016]) показывают, что локальный градиентный спуск ищет минимум не только быстрее обычных градиентных методов (к примеру, того же стохастического градиентного спуска), но и в среднем быстрее большинства методов 1 и 2 порядков, что делает локальный градиентный спуск просто необходимым для использования, когда дело касается нескольких похожих функций для минимизации."
      ]
    },
    {
      "cell_type": "markdown",
      "metadata": {
        "id": "QNWeleK_Mcix",
        "colab_type": "text"
      },
      "source": [
        "**Цель:** минимизировать значение функции $F(x) = \\frac{1}{M}\\sum_{i = 1}^{M} f_i (x)$.  \n",
        "\n",
        "**Описание алгоритма:** локальный градиентный спуск, реализованный в файле loacal_grad.py, принимает на вход следующие аргументы:  \n",
        "\n",
        "\n",
        "1) N - количество эпох, т.е. количество коммуникаций между сервером и клиентами  \n",
        "2) H - количество шагов градиентного спуска в каждой эпохе (частота коммуникаций)  \n",
        "3) $x_0$ - начальная точка  \n",
        "4) $\\gamma$ - коэффициент при градиентном шаге  \n",
        "4) M градиентов  \n",
        "  \n",
        "Алгоритм возвращает все точки, отправленные клиентам за всё время его работы.  \n",
        "  \n",
        "Возьмем для начала в качестве функций $f_1(x), f_2(x), f_3(x)$ билинейные квадратичные формы, задаваемые матрицами:  \n",
        "$A_1 = \\quad \\begin{pmatrix} 1 & 0 & 0 \\\\ 0 & 2 & 0 \\\\ 0 & 0 & 3 \\end{pmatrix} \\quad$ \n",
        "$A_2 = \\quad \\begin{pmatrix} 1 & 0 & 0 \\\\ 0 & 2 & 0 \\\\ 0 & 0 & 1 \\end{pmatrix} \\quad$ \n",
        "$A_3 = \\quad \\begin{pmatrix} 2 & 0 & 0 \\\\ 0 & 2 & 0 \\\\ 0 & 0 & 1 \\end{pmatrix} \\quad$"
      ]
    },
    {
      "cell_type": "code",
      "metadata": {
        "id": "UgGMtZTdJ0XF",
        "colab_type": "code",
        "colab": {}
      },
      "source": [
        "import numpy as np \n",
        "from matplotlib import pyplot as plt "
      ],
      "execution_count": 0,
      "outputs": []
    },
    {
      "cell_type": "markdown",
      "metadata": {
        "id": "PKnTfkPYNjHc",
        "colab_type": "text"
      },
      "source": [
        "Заметим, что $\\nabla f_i(x) = 2A_i x$, следовательно $L_i = 2 \\cdot max\\{\\lambda_{i_j}\\}$, где $\\lambda_{i_j}$ - собственные числа $A_i$. Т.к. $A_i$ - диалгональные, то это просто есть максимум из чисел, стоящих на диагонали.  \n",
        "Те же рассуждения работают для $F(x) = \\frac{1}{M}\\sum_{i = 1}^{M} f_i (x)$, только у нее  \n",
        "$A = \\frac{1}{3} \\begin{pmatrix} 4 & 0 & 0 \\\\ 0 & 6 & 0 \\\\ 0 & 0 & 5 \\end{pmatrix}$  \n",
        "Поэтому для $F(x)$ получим $L = 4$.  \n",
        "Выберем коэффициент $\\gamma \\leq \\frac{1}{4LH}$. Пусть $H = 10$. Тогда $\\frac{1}{4LH} = \\frac{1}{160} > \\frac{1}{200} = 0.005 =: \\gamma$."
      ]
    },
    {
      "cell_type": "code",
      "metadata": {
        "id": "5rBpdWBdMz0j",
        "colab_type": "code",
        "colab": {
          "base_uri": "https://localhost:8080/",
          "height": 1000
        },
        "outputId": "99a0e9f0-8aba-4aaf-c5a6-355dde7ef2e0"
      },
      "source": [
        "points = ! mpiexec -n 4 --allow-run-as-root python local_grad.py 100 10 '[1, 2, 3]' 0.005 '2*np.array([[1, 0, 0],[0, 2, 0],[0, 0, 3]])@x' '2*np.array([[1, 0, 0],[0, 2, 0],[0, 0, 1]])@x' '2*np.array([[2, 0, 0],[0, 2, 0],[0, 0, 1]])@x'\n",
        "points = eval(points[0])\n",
        "points"
      ],
      "execution_count": 9,
      "outputs": [
        {
          "output_type": "execute_result",
          "data": {
            "text/plain": [
              "[array([1, 2, 3]),\n",
              " array([0.87527899, 1.63414561, 2.54618828]),\n",
              " array([0.7661133 , 1.33521594, 2.16102491]),\n",
              " array([0.67056287, 1.09096864, 1.83412543]),\n",
              " array([0.58692959, 0.89140081, 1.55667623]),\n",
              " array([0.51372714, 0.72833936, 1.32119692]),\n",
              " array([0.44965457, 0.59510629, 1.1213387 ]),\n",
              " array([0.39357319, 0.48624516, 0.95171315]),\n",
              " array([0.34448635, 0.3972977 , 0.80774696]),\n",
              " array([0.30152166, 0.32462115, 0.68555861]),\n",
              " array([0.26391557, 0.26523911, 0.58185377]),\n",
              " array([0.23099975, 0.21671967, 0.49383641]),\n",
              " array([0.20218923, 0.17707575, 0.4191335 ]),\n",
              " array([0.17697199, 0.14468378, 0.35573093]),\n",
              " array([0.15489986, 0.11821718, 0.30191931]),\n",
              " array([0.13558059, 0.09659204, 0.2562478 ]),\n",
              " array([0.11867084, 0.07892273, 0.21748505]),\n",
              " array([0.1038701 , 0.06448562, 0.18458596]),\n",
              " array([0.09091531, 0.05268944, 0.15666354]),\n",
              " array([0.07957626, 0.04305111, 0.13296495]),\n",
              " array([0.06965143, 0.03517589, 0.11285127]),\n",
              " array([0.06096443, 0.02874127, 0.09578019]),\n",
              " array([0.05336089, 0.02348371, 0.08129147]),\n",
              " array([0.04670566, 0.0191879 , 0.06899446]),\n",
              " array([0.04088049, 0.01567791, 0.05855763]),\n",
              " array([0.03578183, 0.01280999, 0.04969958]),\n",
              " array([0.03131908, 0.0104667 , 0.0421815 ]),\n",
              " array([0.02741294, 0.00855205, 0.03580068]),\n",
              " array([0.02399397, 0.00698765, 0.03038509]),\n",
              " array([0.02100141, 0.00570942, 0.02578872]),\n",
              " array([0.0183821 , 0.00466501, 0.02188765]),\n",
              " array([0.01608946, 0.00381165, 0.01857669]),\n",
              " array([0.01408277, 0.0031144 , 0.01576658]),\n",
              " array([0.01232635, 0.00254469, 0.01338156]),\n",
              " array([0.010789  , 0.0020792 , 0.01135733]),\n",
              " array([0.00944338, 0.00169886, 0.0096393 ]),\n",
              " array([0.00826559, 0.00138809, 0.00818115]),\n",
              " array([0.0072347 , 0.00113417, 0.00694359]),\n",
              " array([0.00633238, 0.0009267 , 0.00589323]),\n",
              " array([0.0055426 , 0.00075718, 0.00500175]),\n",
              " array([0.00485132, 0.00061867, 0.00424514]),\n",
              " array([0.00424626, 0.0005055 , 0.00360297]),\n",
              " array([0.00371666, 0.00041303, 0.00305795]),\n",
              " array([0.00325312, 0.00033748, 0.00259537]),\n",
              " array([0.00284738, 0.00027574, 0.00220277]),\n",
              " array([0.00249226, 0.0002253 , 0.00186955]),\n",
              " array([0.00218142, 0.00018409, 0.00158675]),\n",
              " array([0.00190935, 0.00015041, 0.00134672]),\n",
              " array([0.00167121, 0.0001229 , 0.001143  ]),\n",
              " array([0.00146278, 0.00010042, 0.0009701 ]),\n",
              " array([1.28033933e-03, 8.20479703e-05, 8.23349509e-04]),\n",
              " array([1.12065411e-03, 6.70391654e-05, 6.98800956e-04]),\n",
              " array([9.80884991e-04, 5.47758790e-05, 5.93092934e-04]),\n",
              " array([8.58548020e-04, 4.47558812e-05, 5.03375425e-04]),\n",
              " array([7.51469040e-04, 3.65688135e-05, 4.27229536e-04]),\n",
              " array([6.57745059e-04, 2.98793831e-05, 3.62602278e-04]),\n",
              " array([5.75710428e-04, 2.44136314e-05, 3.07751223e-04]),\n",
              " array([5.03907240e-04, 1.99477143e-05, 2.61197519e-04]),\n",
              " array([4.41059418e-04, 1.62987349e-05, 2.21686020e-04]),\n",
              " array([3.86050040e-04, 1.33172531e-05, 1.88151449e-04]),\n",
              " array([3.37901487e-04, 1.08811654e-05, 1.59689671e-04]),\n",
              " array([2.95758071e-04, 8.89070434e-06, 1.35533323e-04]),\n",
              " array([2.58870824e-04, 7.26435275e-06, 1.15031119e-04]),\n",
              " array([2.26584193e-04, 5.93550509e-06, 9.76302957e-05]),\n",
              " array([1.98324382e-04, 4.84973981e-06, 8.28617048e-05]),\n",
              " array([1.73589164e-04, 3.96259052e-06, 7.03271671e-05]),\n",
              " array([1.51938947e-04, 3.23772496e-06, 5.96887362e-05]),\n",
              " array([1.32988968e-04, 2.64545702e-06, 5.06595868e-05]),\n",
              " array([1.16402449e-04, 2.16153099e-06, 4.29962820e-05]),\n",
              " array([1.01884617e-04, 1.76612819e-06, 3.64922097e-05]),\n",
              " array([8.91774645e-05, 1.44305532e-06, 3.09720122e-05]),\n",
              " array([7.80551607e-05, 1.17908126e-06, 2.62868581e-05]),\n",
              " array([6.83200419e-05, 9.63395236e-07, 2.23104300e-05]),\n",
              " array([5.97990969e-05, 7.87164049e-07, 1.89355184e-05]),\n",
              " array([5.23408929e-05, 6.43170339e-07, 1.60711317e-05]),\n",
              " array([4.58128837e-05, 5.25516994e-07, 1.36400424e-05]),\n",
              " array([4.00990543e-05, 4.29385646e-07, 1.15767053e-05]),\n",
              " array([3.50978596e-05, 3.50839335e-07, 9.82549045e-06]),\n",
              " array([3.07204190e-05, 2.86661280e-07, 8.33918287e-06]),\n",
              " array([2.68889371e-05, 2.34223137e-07, 7.07770989e-06]),\n",
              " array([2.35353216e-05, 1.91377356e-07, 6.00706065e-06]),\n",
              " array([2.05999724e-05, 1.56369233e-07, 5.09836913e-06]),\n",
              " array([1.80307230e-05, 1.27765048e-07, 4.32713591e-06]),\n",
              " array([1.57819129e-05, 1.04393347e-07, 3.67256757e-06]),\n",
              " array([1.38135767e-05, 8.52969648e-08, 3.11701617e-06]),\n",
              " array([1.20907334e-05, 6.96938304e-08, 2.64550334e-06]),\n",
              " array([1.05827649e-05, 5.69449336e-08, 2.24531653e-06]),\n",
              " array([9.26287172e-06, 4.65281568e-08, 1.90566621e-06]),\n",
              " array([8.10759696e-06, 3.80168917e-08, 1.61739499e-06]),\n",
              " array([7.09640925e-06, 3.10625684e-08, 1.37273072e-06]),\n",
              " array([6.21133789e-06, 2.53803799e-08, 1.16507695e-06]),\n",
              " array([5.43665352e-06, 2.07376183e-08, 9.88835094e-07]),\n",
              " array([4.75858858e-06, 1.69441440e-08, 8.39253442e-07]),\n",
              " array([4.16509259e-06, 1.38445993e-08, 7.12299092e-07]),\n",
              " array([3.64561801e-06, 1.13120456e-08, 6.04549199e-07]),\n",
              " array([3.19093284e-06, 9.24276484e-09, 5.13098694e-07]),\n",
              " array([2.79295646e-06, 7.55201181e-09, 4.35481960e-07]),\n",
              " array([2.44461610e-06, 6.17054349e-09, 3.69606354e-07]),\n",
              " array([2.13972110e-06, 5.04178329e-09, 3.13695788e-07]),\n",
              " array([1.87285291e-06, 4.11950402e-09, 2.66242846e-07]),\n",
              " array([1.63926880e-06, 3.36593471e-09, 2.25968138e-07])]"
            ]
          },
          "metadata": {
            "tags": []
          },
          "execution_count": 9
        }
      ]
    },
    {
      "cell_type": "markdown",
      "metadata": {
        "id": "quaUXOYPNOCr",
        "colab_type": "text"
      },
      "source": [
        "Теперь непосредственно проверим качество выполнения."
      ]
    },
    {
      "cell_type": "code",
      "metadata": {
        "id": "CKBoVDE6NTrl",
        "colab_type": "code",
        "colab": {}
      },
      "source": [
        "A1 = np.array([\n",
        "    [1, 0, 0],\n",
        "    [0, 2, 0],\n",
        "    [0, 0, 3]\n",
        "])\n",
        "\n",
        "A2 = np.array([\n",
        "    [1, 0, 0],\n",
        "    [0, 2, 0],\n",
        "    [0, 0, 1]\n",
        "])\n",
        "\n",
        "A3 = np.array([\n",
        "    [2, 0, 0],\n",
        "    [0, 2, 0],\n",
        "    [0, 0, 1]\n",
        "])"
      ],
      "execution_count": 0,
      "outputs": []
    },
    {
      "cell_type": "code",
      "metadata": {
        "id": "7tr2mj7bNtah",
        "colab_type": "code",
        "colab": {
          "base_uri": "https://localhost:8080/",
          "height": 352
        },
        "outputId": "ed93742c-abb0-46c6-f914-5bb170de877b"
      },
      "source": [
        "Y = [(p.transpose()@A1@p + p.transpose()@A2@p + p.transpose()@A1@p)/3 for p in points]\n",
        "plt.figure(figsize=(10, 5))\n",
        "plt.xlabel('epoch')\n",
        "plt.ylabel('F(x)')\n",
        "plt.plot(Y)"
      ],
      "execution_count": 12,
      "outputs": [
        {
          "output_type": "execute_result",
          "data": {
            "text/plain": [
              "[<matplotlib.lines.Line2D at 0x7f9fef250518>]"
            ]
          },
          "metadata": {
            "tags": []
          },
          "execution_count": 12
        },
        {
          "output_type": "display_data",
          "data": {
            "image/png": "[encoded data removed]",
            "text/plain": [
              "<Figure size 720x360 with 1 Axes>"
            ]
          },
          "metadata": {
            "tags": []
          }
        }
      ]
    },
    {
      "cell_type": "markdown",
      "metadata": {
        "id": "vCa_l1CqOAkd",
        "colab_type": "text"
      },
      "source": [
        "Как видим, наша функция минимизации очень быстро сходится к 0 (буквально за первые 15-20 эпох). "
      ]
    },
    {
      "cell_type": "markdown",
      "metadata": {
        "id": "-9U1-OSpQ1c0",
        "colab_type": "text"
      },
      "source": [
        "**Принцип работы посредством MPI**\n",
        "\n",
        "В local_grad.py мы эмулируем работу алгоритма для звеньев сревер-пользователь. \n",
        "\n",
        "Определим сначала понятие root-процесса или корневого процесса. Это понятие прямо наследуется из терминологии MPI и означает просто 0-й по счету процесс, из которого происходит получение всех значений градиентов на каждой эпохе. То есть нулевой процесс представляет собой сервер в наших обозначениях.\n",
        "\n",
        "Для всех эпох алгоритм выполняет следующее.\n",
        "\n",
        "Для начала в корневом процессе происходит коммуникация со всеми пользователями и сбор состояния функции (градиентов). Далее, происходит суммирование всех полученных градиентов и рассчет значения функции минимизации. \n",
        "\n",
        "Во всех остальных происходит ровно наоборот: рассчет значения конкретного шага и вычет от значения х конкретной функции на локальном устройстве пользователя. Далее каждый из устройств получает новое значение х от сервера и процесс оптимизации происходит  по новой. "
      ]
    },
    {
      "cell_type": "markdown",
      "metadata": {
        "id": "1aG3p0KwTjJH",
        "colab_type": "text"
      },
      "source": [
        "**Ссылки и улучшения алгоритма**\n",
        "\n",
        "Вид функции минимизации был взят из работы Рихтарика 2019-го года. \n",
        "\n",
        "Также возможны модификации функции минимизации, которые исследованы в работах Naman Agarwal 2016-го года.\n",
        "\n",
        "[1] https://arxiv.org/pdf/1611.01146.pdf\n",
        "\n",
        "[2] https://arxiv.org/pdf/1909.04715.pdf"
      ]
    }
  ]
}